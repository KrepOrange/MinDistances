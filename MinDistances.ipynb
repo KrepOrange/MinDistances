{
 "cells": [
  {
   "cell_type": "code",
   "execution_count": 69,
   "id": "7e9dd52f",
   "metadata": {},
   "outputs": [],
   "source": [
    "#tuple list\n",
    "points = [(1,1), (4,5), (6,13), (7,9), (0,0)]\n",
    "#distances saved in this list\n",
    "distances = []"
   ]
  },
  {
   "cell_type": "code",
   "execution_count": 70,
   "id": "3f663ab5",
   "metadata": {},
   "outputs": [],
   "source": [
    "def euclideanDistance(point_1, point_2):\n",
    "    x_distance = point_2[0] - point_1[0]\n",
    "    y_distance = point_2[1] - point_1[1]\n",
    "    distance = (x_distance**2 + y_distance**2) ** (1/2)\n",
    "    return distance"
   ]
  },
  {
   "cell_type": "code",
   "execution_count": 71,
   "id": "82f9c0fd",
   "metadata": {},
   "outputs": [],
   "source": [
    "for i in range(len(points) - 1):\n",
    "    for j in range(i + 1, len(points)):\n",
    "        distances.append(euclideanDistance(points[i], points[j]))"
   ]
  },
  {
   "cell_type": "code",
   "execution_count": 72,
   "id": "8eb3d3dd",
   "metadata": {},
   "outputs": [
    {
     "name": "stdout",
     "output_type": "stream",
     "text": [
      "1.4142135623730951\n"
     ]
    }
   ],
   "source": [
    "print(min(distances))"
   ]
  },
  {
   "cell_type": "code",
   "execution_count": null,
   "id": "f1558f76",
   "metadata": {},
   "outputs": [],
   "source": []
  }
 ],
 "metadata": {
  "kernelspec": {
   "display_name": "Python 3 (ipykernel)",
   "language": "python",
   "name": "python3"
  },
  "language_info": {
   "codemirror_mode": {
    "name": "ipython",
    "version": 3
   },
   "file_extension": ".py",
   "mimetype": "text/x-python",
   "name": "python",
   "nbconvert_exporter": "python",
   "pygments_lexer": "ipython3",
   "version": "3.10.9"
  }
 },
 "nbformat": 4,
 "nbformat_minor": 5
}
